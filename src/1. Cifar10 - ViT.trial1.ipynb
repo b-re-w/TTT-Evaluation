{
 "cells": [
  {
   "metadata": {},
   "cell_type": "markdown",
   "source": "# Vi-T for CIFAR-10",
   "id": "df559d6ecf587ef4"
  },
  {
   "metadata": {},
   "cell_type": "markdown",
   "source": "## Import Libraries",
   "id": "e6487069a22b443e"
  },
  {
   "metadata": {},
   "cell_type": "code",
   "source": "%pip install transformers pygwalker wandb",
   "id": "3fcc1179b76a7de8",
   "outputs": [],
   "execution_count": null
  },
  {
   "metadata": {
    "ExecuteTime": {
     "end_time": "2024-12-01T11:59:59.215555Z",
     "start_time": "2024-12-01T11:59:59.210139Z"
    }
   },
   "cell_type": "code",
   "source": [
    "import os\n",
    "os.chdir(\"./tmp/src\")"
   ],
   "id": "421aaf6045d11084",
   "outputs": [],
   "execution_count": 1
  },
  {
   "metadata": {
    "collapsed": true,
    "ExecuteTime": {
     "end_time": "2024-12-01T12:00:05.612406Z",
     "start_time": "2024-12-01T11:59:59.599497Z"
    }
   },
   "cell_type": "code",
   "source": [
    "import torch\n",
    "from torch import nn, optim\n",
    "from torch.utils.data import DataLoader\n",
    "from transformers import ViTConfig, ViTModel\n",
    "\n",
    "from ttt.lm.pytorch import Block as TTTBlock, TTTCache, TTTConfig\n",
    "\n",
    "from torchvision import transforms, datasets, utils\n",
    "\n",
    "from os import path, rename, mkdir, listdir\n",
    "\n",
    "from tqdm.notebook import tqdm\n",
    "import pygwalker as pyg\n",
    "import wandb\n",
    "\n",
    "import numpy as np\n",
    "import pandas as pd\n",
    "import matplotlib.pyplot as plt\n",
    "%matplotlib inline"
   ],
   "id": "initial_id",
   "outputs": [],
   "execution_count": 2
  },
  {
   "metadata": {
    "ExecuteTime": {
     "end_time": "2024-12-01T12:00:08.210598Z",
     "start_time": "2024-12-01T12:00:05.622374Z"
    }
   },
   "cell_type": "code",
   "source": [
    "# WandB Initialization\n",
    "#wandb.init(project=\"cifar10_pytorch_normal\")\n",
    "wandb.init(project=\"cifar10_pytorch_ttt\")"
   ],
   "id": "99804dd3727b56e1",
   "outputs": [
    {
     "name": "stderr",
     "output_type": "stream",
     "text": [
      "\u001B[34m\u001B[1mwandb\u001B[0m: Using wandb-core as the SDK backend.  Please refer to https://wandb.me/wandb-core for more information.\n",
      "\u001B[34m\u001B[1mwandb\u001B[0m: Currently logged in as: \u001B[33mbrew\u001B[0m (\u001B[33mbrew-research\u001B[0m). Use \u001B[1m`wandb login --relogin`\u001B[0m to force relogin\n"
     ]
    },
    {
     "data": {
      "text/plain": [
       "<IPython.core.display.HTML object>"
      ],
      "text/html": [
       "Tracking run with wandb version 0.18.7"
      ]
     },
     "metadata": {},
     "output_type": "display_data"
    },
    {
     "data": {
      "text/plain": [
       "<IPython.core.display.HTML object>"
      ],
      "text/html": [
       "Run data is saved locally in <code>/shared_hdd/brew/tmp/src/wandb/run-20241201_120007-glh5lnw8</code>"
      ]
     },
     "metadata": {},
     "output_type": "display_data"
    },
    {
     "data": {
      "text/plain": [
       "<IPython.core.display.HTML object>"
      ],
      "text/html": [
       "Syncing run <strong><a href='https://wandb.ai/brew-research/cifar10_pytorch_ttt/runs/glh5lnw8' target=\"_blank\">jumping-oath-8</a></strong> to <a href='https://wandb.ai/brew-research/cifar10_pytorch_ttt' target=\"_blank\">Weights & Biases</a> (<a href='https://wandb.me/developer-guide' target=\"_blank\">docs</a>)<br/>"
      ]
     },
     "metadata": {},
     "output_type": "display_data"
    },
    {
     "data": {
      "text/plain": [
       "<IPython.core.display.HTML object>"
      ],
      "text/html": [
       " View project at <a href='https://wandb.ai/brew-research/cifar10_pytorch_ttt' target=\"_blank\">https://wandb.ai/brew-research/cifar10_pytorch_ttt</a>"
      ]
     },
     "metadata": {},
     "output_type": "display_data"
    },
    {
     "data": {
      "text/plain": [
       "<IPython.core.display.HTML object>"
      ],
      "text/html": [
       " View run at <a href='https://wandb.ai/brew-research/cifar10_pytorch_ttt/runs/glh5lnw8' target=\"_blank\">https://wandb.ai/brew-research/cifar10_pytorch_ttt/runs/glh5lnw8</a>"
      ]
     },
     "metadata": {},
     "output_type": "display_data"
    },
    {
     "data": {
      "text/html": [
       "<button onClick=\"this.nextSibling.style.display='block';this.style.display='none';\">Display W&B run</button><iframe src='https://wandb.ai/brew-research/cifar10_pytorch_ttt/runs/glh5lnw8?jupyter=true' style='border:none;width:100%;height:420px;display:none;'></iframe>"
      ],
      "text/plain": [
       "<wandb.sdk.wandb_run.Run at 0x7f30fca3b560>"
      ]
     },
     "execution_count": 3,
     "metadata": {},
     "output_type": "execute_result"
    }
   ],
   "execution_count": 3
  },
  {
   "metadata": {},
   "cell_type": "markdown",
   "source": "### Check GPU Availability",
   "id": "88444867b0b14178"
  },
  {
   "metadata": {
    "ExecuteTime": {
     "end_time": "2024-12-01T12:00:09.028498Z",
     "start_time": "2024-12-01T12:00:08.236907Z"
    }
   },
   "cell_type": "code",
   "source": "!nvidia-smi",
   "id": "51e70cad906b1983",
   "outputs": [
    {
     "name": "stdout",
     "output_type": "stream",
     "text": [
      "Sun Dec  1 12:00:08 2024       \r\n",
      "+-----------------------------------------------------------------------------+\r\n",
      "| NVIDIA-SMI 495.29.05    Driver Version: 495.29.05    CUDA Version: 11.5     |\r\n",
      "|-------------------------------+----------------------+----------------------+\r\n",
      "| GPU  Name        Persistence-M| Bus-Id        Disp.A | Volatile Uncorr. ECC |\r\n",
      "| Fan  Temp  Perf  Pwr:Usage/Cap|         Memory-Usage | GPU-Util  Compute M. |\r\n",
      "|                               |                      |               MIG M. |\r\n",
      "|===============================+======================+======================|\r\n",
      "|   0  Tesla P100-PCIE...  On   | 00000000:04:00.0 Off |                    0 |\r\n",
      "| N/A   38C    P0    33W / 250W |  15554MiB / 16280MiB |      0%      Default |\r\n",
      "|                               |                      |                  N/A |\r\n",
      "+-------------------------------+----------------------+----------------------+\r\n",
      "|   1  Tesla P100-PCIE...  On   | 00000000:06:00.0 Off |                    0 |\r\n",
      "| N/A   37C    P0    25W / 250W |      2MiB / 16280MiB |      0%      Default |\r\n",
      "|                               |                      |                  N/A |\r\n",
      "+-------------------------------+----------------------+----------------------+\r\n",
      "|   2  Tesla P100-PCIE...  On   | 00000000:07:00.0 Off |                    0 |\r\n",
      "| N/A   41C    P0    27W / 250W |      2MiB / 16280MiB |      0%      Default |\r\n",
      "|                               |                      |                  N/A |\r\n",
      "+-------------------------------+----------------------+----------------------+\r\n",
      "|   3  Tesla P100-PCIE...  On   | 00000000:08:00.0 Off |                    0 |\r\n",
      "| N/A   63C    P0   180W / 250W |  14935MiB / 16280MiB |     97%      Default |\r\n",
      "|                               |                      |                  N/A |\r\n",
      "+-------------------------------+----------------------+----------------------+\r\n",
      "|   4  Tesla P100-PCIE...  On   | 00000000:0C:00.0 Off |                    0 |\r\n",
      "| N/A   64C    P0   188W / 250W |  15449MiB / 16280MiB |    100%      Default |\r\n",
      "|                               |                      |                  N/A |\r\n",
      "+-------------------------------+----------------------+----------------------+\r\n",
      "|   5  Tesla P100-PCIE...  On   | 00000000:0D:00.0 Off |                    0 |\r\n",
      "| N/A   44C    P0    38W / 250W |      2MiB / 16280MiB |      0%      Default |\r\n",
      "|                               |                      |                  N/A |\r\n",
      "+-------------------------------+----------------------+----------------------+\r\n",
      "|   6  Tesla P100-PCIE...  On   | 00000000:0E:00.0 Off |                    0 |\r\n",
      "| N/A   35C    P0    26W / 250W |      2MiB / 16280MiB |      0%      Default |\r\n",
      "|                               |                      |                  N/A |\r\n",
      "+-------------------------------+----------------------+----------------------+\r\n",
      "|   7  Tesla P100-PCIE...  On   | 00000000:0F:00.0 Off |                    0 |\r\n",
      "| N/A   35C    P0    25W / 250W |      2MiB / 16280MiB |      0%      Default |\r\n",
      "|                               |                      |                  N/A |\r\n",
      "+-------------------------------+----------------------+----------------------+\r\n",
      "                                                                               \r\n",
      "+-----------------------------------------------------------------------------+\r\n",
      "| Processes:                                                                  |\r\n",
      "|  GPU   GI   CI        PID   Type   Process name                  GPU Memory |\r\n",
      "|        ID   ID                                                   Usage      |\r\n",
      "|=============================================================================|\r\n",
      "|    0   N/A  N/A     45111      C   ...da/envs/AISW_k/bin/python    14875MiB |\r\n",
      "|    3   N/A  N/A     24914      C   ...brew/anaconda3/bin/python    14933MiB |\r\n",
      "|    4   N/A  N/A     24914      C   ...brew/anaconda3/bin/python    15447MiB |\r\n",
      "+-----------------------------------------------------------------------------+\r\n"
     ]
    }
   ],
   "execution_count": 4
  },
  {
   "metadata": {
    "ExecuteTime": {
     "end_time": "2024-12-01T12:00:09.561074Z",
     "start_time": "2024-12-01T12:00:09.056218Z"
    }
   },
   "cell_type": "code",
   "source": [
    "# Set CUDA Device Number 0~7\n",
    "DEVICE_NUM = 5\n",
    "\n",
    "if torch.cuda.is_available():\n",
    "    torch.cuda.set_device(DEVICE_NUM)\n",
    "    device = torch.device(\"cuda\")\n",
    "else:\n",
    "    device = torch.device(\"cpu\")\n",
    "    DEVICE_NUM = -1\n",
    "print(f\"INFO: Using device - {device}:{DEVICE_NUM}\")"
   ],
   "id": "4ae5ca44145e20a0",
   "outputs": [
    {
     "name": "stdout",
     "output_type": "stream",
     "text": [
      "INFO: Using device - cuda:5\n"
     ]
    }
   ],
   "execution_count": 5
  },
  {
   "metadata": {},
   "cell_type": "markdown",
   "source": "## Load DataSets",
   "id": "43f33be18440cabc"
  },
  {
   "metadata": {
    "ExecuteTime": {
     "end_time": "2024-12-01T12:00:10.092573Z",
     "start_time": "2024-12-01T12:00:09.573393Z"
    }
   },
   "cell_type": "code",
   "source": [
    "# Image Resizing and Tensor Conversion\n",
    "IMG_SIZE = (32, 32)\n",
    "IMG_NORM = dict(  # CIFAR10 Normalization\n",
    "    mean=[0.4914, 0.4822, 0.4465], std=[0.2023, 0.1994, 0.2010]\n",
    ")\n",
    "\n",
    "augmenter = transforms.Compose([\n",
    "    transforms.Resize(IMG_SIZE),  # Resize Image\n",
    "    transforms.RandomHorizontalFlip(),\n",
    "    transforms.RandAugment(num_ops=2, magnitude=9),\n",
    "    transforms.ToTensor(),  # Convert Image to Tensor\n",
    "    transforms.Normalize(**IMG_NORM)  # Normalization\n",
    "])\n",
    "\n",
    "resizer = transforms.Compose([\n",
    "    transforms.Resize(IMG_SIZE),  # Resize Image\n",
    "    transforms.ToTensor(),  # Convert Image to Tensor\n",
    "    transforms.Normalize(**IMG_NORM)  # Normalization\n",
    "])"
   ],
   "id": "50f6181b6f7f12a2",
   "outputs": [],
   "execution_count": 6
  },
  {
   "metadata": {
    "ExecuteTime": {
     "end_time": "2024-12-01T12:00:12.992828Z",
     "start_time": "2024-12-01T12:00:10.106171Z"
    }
   },
   "cell_type": "code",
   "source": [
    "DATA_ROOT = path.join(\".\", \"data\")\n",
    "\n",
    "train_dataset = datasets.CIFAR10(root=DATA_ROOT, download=True, train=True, transform=augmenter)\n",
    "test_dataset = datasets.CIFAR10(root=DATA_ROOT, download=True, train=False, transform=resizer)\n",
    "\n",
    "print(f\"INFO: Dataset loaded successfully. Number of samples - Train({len(train_dataset)}), Test({len(test_dataset)})\")"
   ],
   "id": "327d472ec0525e33",
   "outputs": [
    {
     "name": "stdout",
     "output_type": "stream",
     "text": [
      "Files already downloaded and verified\n",
      "Files already downloaded and verified\n",
      "INFO: Dataset loaded successfully. Number of samples - Train(50000), Test(10000)\n"
     ]
    }
   ],
   "execution_count": 7
  },
  {
   "metadata": {
    "ExecuteTime": {
     "end_time": "2024-12-01T12:00:13.453961Z",
     "start_time": "2024-12-01T12:00:13.008781Z"
    }
   },
   "cell_type": "code",
   "source": [
    "# Train Dataset Distribution\n",
    "pyg.walk(pd.DataFrame(dict(lable=[train_dataset.classes[lb] for lb in train_dataset.targets])))"
   ],
   "id": "b215e25baf911844",
   "outputs": [
    {
     "data": {
      "text/plain": [
       "Box(children=(HTML(value='\\n<div id=\"ifr-pyg-000628342cacb2c0HpXiAg76O5uCfyI0\" style=\"height: auto\">\\n    <hea…"
      ],
      "application/vnd.jupyter.widget-view+json": {
       "version_major": 2,
       "version_minor": 0,
       "model_id": "4552dbe586b0454d8d6cd895f0fe5ba5"
      }
     },
     "metadata": {},
     "output_type": "display_data"
    },
    {
     "data": {
      "text/plain": [
       "<IPython.core.display.HTML object>"
      ],
      "text/html": [
       "<script>\n",
       "    window.addEventListener(\"message\", function(event) {\n",
       "        const backgroundMap = {\n",
       "            \"dark\": \"hsl(240 10% 3.9%)\",\n",
       "            \"light\": \"hsl(0 0 100%)\",\n",
       "        };\n",
       "        const colorMap = {\n",
       "            \"dark\": \"hsl(0 0% 98%)\",\n",
       "            \"light\": \"hsl(240 10% 3.9%)\",\n",
       "        };\n",
       "        if (event.data.action === \"changeAppearance\" && event.data.gid === \"000628342cacb2c0HpXiAg76O5uCfyI0\") {\n",
       "            var iframe = document.getElementById(\"gwalker-000628342cacb2c0HpXiAg76O5uCfyI0\");\n",
       "            iframe.style.background  = backgroundMap[event.data.appearance];\n",
       "            iframe.style.color = colorMap[event.data.appearance];\n",
       "        }\n",
       "    });\n",
       "</script>"
      ]
     },
     "metadata": {},
     "output_type": "display_data"
    },
    {
     "data": {
      "text/plain": [
       "<IPython.core.display.HTML object>"
      ],
      "text/html": []
     },
     "metadata": {},
     "output_type": "display_data"
    },
    {
     "data": {
      "text/plain": [
       "<pygwalker.api.pygwalker.PygWalker at 0x7f30fc2b6a50>"
      ]
     },
     "execution_count": 8,
     "metadata": {},
     "output_type": "execute_result"
    }
   ],
   "execution_count": 8
  },
  {
   "metadata": {
    "ExecuteTime": {
     "end_time": "2024-12-01T12:00:13.741950Z",
     "start_time": "2024-12-01T12:00:13.581891Z"
    }
   },
   "cell_type": "code",
   "source": [
    "# Test Dataset Distribution\n",
    "pyg.walk(pd.DataFrame(dict(lable=[test_dataset.classes[lb] for lb in test_dataset.targets])))"
   ],
   "id": "17e00e55f45d8d28",
   "outputs": [
    {
     "data": {
      "text/plain": [
       "Box(children=(HTML(value='\\n<div id=\"ifr-pyg-000628342cb348abgf1q4vtJQpOihVAj\" style=\"height: auto\">\\n    <hea…"
      ],
      "application/vnd.jupyter.widget-view+json": {
       "version_major": 2,
       "version_minor": 0,
       "model_id": "9d543b52eae74716a518e9e4d29a5df8"
      }
     },
     "metadata": {},
     "output_type": "display_data"
    },
    {
     "data": {
      "text/plain": [
       "<IPython.core.display.HTML object>"
      ],
      "text/html": [
       "<script>\n",
       "    window.addEventListener(\"message\", function(event) {\n",
       "        const backgroundMap = {\n",
       "            \"dark\": \"hsl(240 10% 3.9%)\",\n",
       "            \"light\": \"hsl(0 0 100%)\",\n",
       "        };\n",
       "        const colorMap = {\n",
       "            \"dark\": \"hsl(0 0% 98%)\",\n",
       "            \"light\": \"hsl(240 10% 3.9%)\",\n",
       "        };\n",
       "        if (event.data.action === \"changeAppearance\" && event.data.gid === \"000628342cb348abgf1q4vtJQpOihVAj\") {\n",
       "            var iframe = document.getElementById(\"gwalker-000628342cb348abgf1q4vtJQpOihVAj\");\n",
       "            iframe.style.background  = backgroundMap[event.data.appearance];\n",
       "            iframe.style.color = colorMap[event.data.appearance];\n",
       "        }\n",
       "    });\n",
       "</script>"
      ]
     },
     "metadata": {},
     "output_type": "display_data"
    },
    {
     "data": {
      "text/plain": [
       "<IPython.core.display.HTML object>"
      ],
      "text/html": []
     },
     "metadata": {},
     "output_type": "display_data"
    },
    {
     "data": {
      "text/plain": [
       "<pygwalker.api.pygwalker.PygWalker at 0x7f30fca23a70>"
      ]
     },
     "execution_count": 9,
     "metadata": {},
     "output_type": "execute_result"
    }
   ],
   "execution_count": 9
  },
  {
   "metadata": {},
   "cell_type": "markdown",
   "source": "## DataLoader",
   "id": "b50f6925761e5e63"
  },
  {
   "metadata": {
    "ExecuteTime": {
     "end_time": "2024-12-01T12:00:13.898622Z",
     "start_time": "2024-12-01T12:00:13.893379Z"
    }
   },
   "cell_type": "code",
   "source": [
    "# Set Batch Size\n",
    "BATCH_SIZE = 512"
   ],
   "id": "4dd53b09a07e7b04",
   "outputs": [],
   "execution_count": 10
  },
  {
   "metadata": {
    "ExecuteTime": {
     "end_time": "2024-12-01T12:00:13.944985Z",
     "start_time": "2024-12-01T12:00:13.923050Z"
    }
   },
   "cell_type": "code",
   "source": [
    "MULTI_PROCESSING = True  # Set False if DataLoader is causing issues\n",
    "\n",
    "from platform import system\n",
    "if MULTI_PROCESSING and system() != \"Windows\":  # Multiprocess data loading is not supported on Windows\n",
    "    import multiprocessing\n",
    "    cpu_cores = multiprocessing.cpu_count()\n",
    "    print(f\"INFO: Number of CPU cores - {cpu_cores}\")\n",
    "else:\n",
    "    cpu_cores = 0\n",
    "    print(\"INFO: Using DataLoader without multi-processing.\")\n",
    "\n",
    "train_loader = DataLoader(train_dataset, batch_size=BATCH_SIZE, shuffle=True, num_workers=cpu_cores)\n",
    "test_loader = DataLoader(test_dataset, batch_size=BATCH_SIZE, shuffle=False, num_workers=cpu_cores)"
   ],
   "id": "c6a5748cf1442804",
   "outputs": [
    {
     "name": "stdout",
     "output_type": "stream",
     "text": [
      "INFO: Number of CPU cores - 48\n"
     ]
    }
   ],
   "execution_count": 11
  },
  {
   "metadata": {
    "ExecuteTime": {
     "end_time": "2024-12-01T12:00:14.023031Z",
     "start_time": "2024-12-01T12:00:14.018631Z"
    }
   },
   "cell_type": "code",
   "source": [
    "# Image Visualizer\n",
    "def imshow(image_list, mean=IMG_NORM['mean'], std=IMG_NORM['std']):\n",
    "    np_image = np.array(image_list).transpose((1, 2, 0))\n",
    "    de_norm_image = np_image * std + mean\n",
    "    plt.figure(figsize=(10, 10))\n",
    "    plt.imshow(de_norm_image)"
   ],
   "id": "f178d4118a670b57",
   "outputs": [],
   "execution_count": 12
  },
  {
   "metadata": {
    "ExecuteTime": {
     "end_time": "2024-12-01T11:42:42.647126Z",
     "start_time": "2024-12-01T11:42:39.244231Z"
    }
   },
   "cell_type": "code",
   "source": [
    "images, targets = next(iter(train_loader))\n",
    "grid_images = utils.make_grid(images, nrow=8, padding=10)\n",
    "imshow(grid_images)"
   ],
   "id": "48dc34cfd7aed946",
   "outputs": [
    {
     "name": "stderr",
     "output_type": "stream",
     "text": [
      "Clipping input data to the valid range for imshow with RGB data ([0..1] for floats or [0..255] for integers).\n"
     ]
    },
    {
     "data": {
      "text/plain": [
       "<Figure size 1000x1000 with 1 Axes>"
      ],
      "image/png": "[encoded data removed]"
     },
     "metadata": {},
     "output_type": "display_data"
    }
   ],
   "execution_count": 15
  },
  {
   "metadata": {},
   "cell_type": "markdown",
   "source": "## Define Model",
   "id": "e8d5ea2a2af0c35d"
  },
  {
   "metadata": {
    "ExecuteTime": {
     "end_time": "2024-12-01T12:00:14.072511Z",
     "start_time": "2024-12-01T12:00:14.066932Z"
    }
   },
   "cell_type": "code",
   "source": [
    "common_config = dict(\n",
    "    image_size=IMG_SIZE[0],\n",
    "    num_channels=3,\n",
    "    patch_size=8,\n",
    "    hidden_size=768,\n",
    "    num_hidden_layers=6,\n",
    "    num_attention_heads=8,\n",
    "    intermediate_size=3072,\n",
    "    hidden_act=\"gelu\",\n",
    "    hidden_dropout_prob=0.1,\n",
    "    attention_probs_dropout_prob=0.1,\n",
    "    initializer_range=0.02,\n",
    "    layer_norm_eps=1e-12,\n",
    "    qkv_bias=True,\n",
    "    encoder_stride=16\n",
    ")"
   ],
   "id": "250ce4a637404c37",
   "outputs": [],
   "execution_count": 13
  },
  {
   "metadata": {},
   "cell_type": "markdown",
   "source": "### Normal Vi-T",
   "id": "477f606cb03fdd7d"
  },
  {
   "metadata": {
    "ExecuteTime": {
     "end_time": "2024-12-01T12:00:14.129830Z",
     "start_time": "2024-12-01T12:00:14.123308Z"
    }
   },
   "cell_type": "code",
   "source": [
    "class ViTImageClassifier(nn.Module):\n",
    "    def __init__(self, config: ViTConfig, num_classes: int):\n",
    "        super().__init__()\n",
    "        self.config = config\n",
    "        self.vit = ViTModel(config=config)\n",
    "        self.fc = nn.Linear(self.config.hidden_size, num_classes)\n",
    "\n",
    "    def forward(self, x):\n",
    "        out = self.vit(x)\n",
    "        pooled = out.pooler_output  # [batch_size, hidden_size]\n",
    "        logits = self.fc(pooled)  # [batch_size, num_classes]\n",
    "        return logits"
   ],
   "id": "5ddcb2d583a637f2",
   "outputs": [],
   "execution_count": 14
  },
  {
   "metadata": {
    "ExecuteTime": {
     "end_time": "2024-12-01T11:40:15.314014Z",
     "start_time": "2024-12-01T11:40:14.491865Z"
    }
   },
   "cell_type": "code",
   "source": [
    "# Initialize Model\n",
    "model = ViTImageClassifier(config=ViTConfig(**common_config), num_classes=len(train_dataset.classes))\n",
    "#model.to(device)\n",
    "model"
   ],
   "id": "f3500011660e797",
   "outputs": [
    {
     "data": {
      "text/plain": [
       "ViTImageClassifier(\n",
       "  (vit): ViTModel(\n",
       "    (embeddings): ViTEmbeddings(\n",
       "      (patch_embeddings): ViTPatchEmbeddings(\n",
       "        (projection): Conv2d(3, 768, kernel_size=(8, 8), stride=(8, 8))\n",
       "      )\n",
       "      (dropout): Dropout(p=0.1, inplace=False)\n",
       "    )\n",
       "    (encoder): ViTEncoder(\n",
       "      (layer): ModuleList(\n",
       "        (0-5): 6 x ViTLayer(\n",
       "          (attention): ViTSdpaAttention(\n",
       "            (attention): ViTSdpaSelfAttention(\n",
       "              (query): Linear(in_features=768, out_features=768, bias=True)\n",
       "              (key): Linear(in_features=768, out_features=768, bias=True)\n",
       "              (value): Linear(in_features=768, out_features=768, bias=True)\n",
       "              (dropout): Dropout(p=0.1, inplace=False)\n",
       "            )\n",
       "            (output): ViTSelfOutput(\n",
       "              (dense): Linear(in_features=768, out_features=768, bias=True)\n",
       "              (dropout): Dropout(p=0.1, inplace=False)\n",
       "            )\n",
       "          )\n",
       "          (intermediate): ViTIntermediate(\n",
       "            (dense): Linear(in_features=768, out_features=3072, bias=True)\n",
       "            (intermediate_act_fn): GELUActivation()\n",
       "          )\n",
       "          (output): ViTOutput(\n",
       "            (dense): Linear(in_features=3072, out_features=768, bias=True)\n",
       "            (dropout): Dropout(p=0.1, inplace=False)\n",
       "          )\n",
       "          (layernorm_before): LayerNorm((768,), eps=1e-12, elementwise_affine=True)\n",
       "          (layernorm_after): LayerNorm((768,), eps=1e-12, elementwise_affine=True)\n",
       "        )\n",
       "      )\n",
       "    )\n",
       "    (layernorm): LayerNorm((768,), eps=1e-12, elementwise_affine=True)\n",
       "    (pooler): ViTPooler(\n",
       "      (dense): Linear(in_features=768, out_features=768, bias=True)\n",
       "      (activation): Tanh()\n",
       "    )\n",
       "  )\n",
       "  (fc): Linear(in_features=768, out_features=10, bias=True)\n",
       ")"
      ]
     },
     "execution_count": 16,
     "metadata": {},
     "output_type": "execute_result"
    }
   ],
   "execution_count": 16
  },
  {
   "metadata": {},
   "cell_type": "markdown",
   "source": "### TTT Vi-T",
   "id": "86186f6b0c01e3c1"
  },
  {
   "metadata": {
    "ExecuteTime": {
     "end_time": "2024-12-01T12:00:14.297184Z",
     "start_time": "2024-12-01T12:00:14.291299Z"
    }
   },
   "cell_type": "code",
   "source": [
    "class ImagePatchEmbedding(nn.Module):\n",
    "    def __init__(self, config):\n",
    "        super().__init__()\n",
    "        image_size = config.image_size\n",
    "        patch_size = config.patch_size\n",
    "        num_channels = config.num_channels\n",
    "        hidden_size = config.hidden_size\n",
    "\n",
    "        self.num_patches = (image_size // patch_size) ** 2\n",
    "        self.projection = nn.Conv2d(num_channels, hidden_size, kernel_size=patch_size, stride=patch_size)"
   ],
   "id": "274a5c074bc5ac84",
   "outputs": [],
   "execution_count": 15
  },
  {
   "metadata": {
    "ExecuteTime": {
     "end_time": "2024-12-01T12:00:14.317386Z",
     "start_time": "2024-12-01T12:00:14.309857Z"
    }
   },
   "cell_type": "code",
   "source": [
    "from dataclasses import dataclass\n",
    "from typing import Tuple, Optional\n",
    "from transformers.utils import ModelOutput\n",
    "\n",
    "\n",
    "@dataclass\n",
    "class VisionModelOutput(ModelOutput):\n",
    "    loss: Optional[torch.FloatTensor] = None\n",
    "    logits: Optional[torch.FloatTensor] = None\n",
    "    hidden_states: Optional[Tuple[torch.FloatTensor]] = None"
   ],
   "id": "362ffd129be01e3c",
   "outputs": [],
   "execution_count": 16
  },
  {
   "metadata": {
    "ExecuteTime": {
     "end_time": "2024-12-01T12:00:14.365279Z",
     "start_time": "2024-12-01T12:00:14.359201Z"
    }
   },
   "cell_type": "code",
   "source": [
    "class TTTViTConfig(TTTConfig):\n",
    "    def __init__(\n",
    "            self,\n",
    "            image_size=224,\n",
    "            patch_size=16,\n",
    "            num_channels=3,\n",
    "            **kwargs\n",
    "    ):\n",
    "        super().__init__(**kwargs)\n",
    "        self.image_size = image_size\n",
    "        self.patch_size = patch_size\n",
    "        self.num_channels = num_channels"
   ],
   "id": "aa34528aea2c2c8c",
   "outputs": [],
   "execution_count": 17
  },
  {
   "metadata": {
    "ExecuteTime": {
     "end_time": "2024-12-01T12:00:14.434468Z",
     "start_time": "2024-12-01T12:00:14.418539Z"
    }
   },
   "cell_type": "code",
   "source": [
    "from ttt.lm.pytorch import TTTPreTrainedModel, RMSNorm\n",
    "\n",
    "\n",
    "class TTTViTModel(TTTPreTrainedModel):\n",
    "    def __init__(self, config: TTTViTConfig):\n",
    "        super().__init__(config)\n",
    "        self.hidden_size = config.hidden_size\n",
    "\n",
    "        # Image patch embedding\n",
    "        self.patch_embed = ImagePatchEmbedding(config)\n",
    "\n",
    "        # Class token\n",
    "        self.cls_token = nn.Parameter(torch.zeros(1, 1, config.hidden_size))\n",
    "\n",
    "        # Position embedding\n",
    "        num_positions = self.patch_embed.num_patches + 1  # +1 for [CLS] token\n",
    "        self.pos_embed = nn.Parameter(torch.zeros(1, num_positions, config.hidden_size))\n",
    "\n",
    "        # TTT layers - reuse from original TTTModel\n",
    "        self.layers = nn.ModuleList([TTTBlock(config, layer_idx) for layer_idx in range(config.num_hidden_layers)])\n",
    "\n",
    "        # Layer norm\n",
    "        self.norm = RMSNorm(config.hidden_size, eps=config.rms_norm_eps)\n",
    "\n",
    "        # Classification head\n",
    "        self.head = nn.Linear(config.hidden_size, config.hidden_size)\n",
    "\n",
    "        # Initialize weights and apply final processing\n",
    "        self.post_init()\n",
    "\n",
    "    def forward(\n",
    "            self,\n",
    "            pixel_values: torch.FloatTensor,\n",
    "            labels: Optional[torch.LongTensor] = None,\n",
    "            output_hidden_states: Optional[bool] = None,\n",
    "            return_dict: Optional[bool] = None,\n",
    "            use_cache: Optional[bool] = None,\n",
    "    ):\n",
    "        output_hidden_states = (\n",
    "            output_hidden_states if output_hidden_states is not None else self.config.output_hidden_states\n",
    "        )\n",
    "        return_dict = return_dict if return_dict is not None else self.config.use_return_dict\n",
    "\n",
    "        # Get patch embeddings\n",
    "        batch_size = pixel_values.shape[0]\n",
    "        x = self.patch_embed.projection(pixel_values).flatten(2).transpose(1, 2)\n",
    "\n",
    "        # Add class token\n",
    "        cls_tokens = self.cls_token.expand(batch_size, -1, -1)\n",
    "        x = torch.cat((cls_tokens, x), dim=1)\n",
    "\n",
    "        # Add position embeddings\n",
    "        x = x + self.pos_embed\n",
    "\n",
    "        # Process through TTT layers\n",
    "        all_hidden_states = () if output_hidden_states else None\n",
    "\n",
    "        for layer in self.layers:\n",
    "            if output_hidden_states:\n",
    "                all_hidden_states = all_hidden_states + (x,)\n",
    "\n",
    "            x = layer(x)\n",
    "\n",
    "        x = self.norm(x)\n",
    "\n",
    "        if output_hidden_states:\n",
    "            all_hidden_states = all_hidden_states + (x,)\n",
    "\n",
    "        # Use [CLS] token for classification\n",
    "        logits = self.head(x[:, 0])\n",
    "\n",
    "        loss = None\n",
    "        if labels is not None:\n",
    "            loss_fct = nn.CrossEntropyLoss()\n",
    "            loss = loss_fct(logits, labels)\n",
    "\n",
    "        if not return_dict:\n",
    "            output = (logits,) + (all_hidden_states,) if output_hidden_states else (logits,)\n",
    "            return ((loss,) + output) if loss is not None else output\n",
    "\n",
    "        return VisionModelOutput(\n",
    "            loss=loss,\n",
    "            logits=logits,\n",
    "            hidden_states=all_hidden_states if output_hidden_states else None,\n",
    "        )"
   ],
   "id": "99ab411bd30d7ce1",
   "outputs": [],
   "execution_count": 18
  },
  {
   "metadata": {
    "ExecuteTime": {
     "end_time": "2024-12-01T12:00:14.487379Z",
     "start_time": "2024-12-01T12:00:14.481648Z"
    }
   },
   "cell_type": "code",
   "source": [
    "class TTTViTImageClassifier(nn.Module):\n",
    "    def __init__(self, config: TTTViTConfig, num_classes: int):\n",
    "        super().__init__()\n",
    "        self.config = config\n",
    "        self.vit = TTTViTModel(config=config)\n",
    "        self.fc = nn.Linear(self.config.hidden_size, num_classes)\n",
    "\n",
    "    def forward(self, x):\n",
    "        out = self.vit(x)  # [batch_size, hidden_size]\n",
    "        logits = self.fc(out.logits)  # [batch_size, num_classes]\n",
    "        return logits, out.loss"
   ],
   "id": "19f784d8cad7e884",
   "outputs": [],
   "execution_count": 19
  },
  {
   "metadata": {
    "ExecuteTime": {
     "end_time": "2024-12-01T12:00:18.259919Z",
     "start_time": "2024-12-01T12:00:14.540743Z"
    }
   },
   "cell_type": "code",
   "source": [
    "# Initialize Model\n",
    "model = TTTViTImageClassifier(config=TTTViTConfig(\n",
    "    **common_config, ttt_base_lr=0.01, mini_batch_size=32, use_gate=True  # TTT learning rate, Enable gating mechanism\n",
    "), num_classes=len(train_dataset.classes))\n",
    "model.to(device)"
   ],
   "id": "9c87884c1ea1829b",
   "outputs": [
    {
     "data": {
      "text/plain": [
       "TTTViTImageClassifier(\n",
       "  (vit): TTTViTModel(\n",
       "    (patch_embed): ImagePatchEmbedding(\n",
       "      (projection): Conv2d(3, 768, kernel_size=(8, 8), stride=(8, 8))\n",
       "    )\n",
       "    (layers): ModuleList(\n",
       "      (0-5): 6 x Block(\n",
       "        (seq_modeling_block): TTTLinear(\n",
       "          (q_proj): Linear(in_features=768, out_features=768, bias=False)\n",
       "          (k_proj): Linear(in_features=768, out_features=768, bias=False)\n",
       "          (v_proj): Linear(in_features=768, out_features=768, bias=False)\n",
       "          (o_proj): Linear(in_features=768, out_features=768, bias=False)\n",
       "          (g_proj): Linear(in_features=768, out_features=768, bias=False)\n",
       "          (post_norm): LayerNorm((768,), eps=1e-06, elementwise_affine=True)\n",
       "        )\n",
       "        (mlp): SwiGluMLP(\n",
       "          (gate_proj): Linear(in_features=768, out_features=3072, bias=False)\n",
       "          (up_proj): Linear(in_features=768, out_features=3072, bias=False)\n",
       "          (down_proj): Linear(in_features=3072, out_features=768, bias=False)\n",
       "          (act_fn): GELUActivation()\n",
       "        )\n",
       "        (seq_norm): RMSNorm()\n",
       "        (ffn_norm): RMSNorm()\n",
       "      )\n",
       "    )\n",
       "    (norm): RMSNorm()\n",
       "    (head): Linear(in_features=768, out_features=768, bias=True)\n",
       "  )\n",
       "  (fc): Linear(in_features=768, out_features=10, bias=True)\n",
       ")"
      ]
     },
     "execution_count": 20,
     "metadata": {},
     "output_type": "execute_result"
    }
   ],
   "execution_count": 20
  },
  {
   "metadata": {},
   "cell_type": "markdown",
   "source": "## Training Loop",
   "id": "2f914f6148a87ae7"
  },
  {
   "metadata": {
    "ExecuteTime": {
     "end_time": "2024-12-01T12:00:18.381659Z",
     "start_time": "2024-12-01T12:00:18.372829Z"
    }
   },
   "cell_type": "code",
   "source": [
    "from IPython.display import display\n",
    "import ipywidgets as widgets\n",
    "\n",
    "# Interactive Loss Plot Update\n",
    "def create_plot():\n",
    "    losses = []\n",
    "\n",
    "    # Enable Interactive Mode\n",
    "    plt.ion()\n",
    "\n",
    "    # Loss Plot Setting\n",
    "    fig, ax = plt.subplots(figsize=(6, 2))\n",
    "    line, = ax.plot(losses)\n",
    "    ax.set_xlabel(\"Iteration\")\n",
    "    ax.set_ylabel(\"Loss\")\n",
    "    ax.set_title(\"Cross Entropy Loss\")\n",
    "\n",
    "    # Display Plot\n",
    "    plot = widgets.Output()\n",
    "    display(plot)\n",
    "\n",
    "    def update_plot(new_loss):\n",
    "        losses.append(new_loss.item())\n",
    "        line.set_ydata(losses)\n",
    "        line.set_xdata(range(len(losses)))\n",
    "        ax.relim()\n",
    "        ax.autoscale_view()\n",
    "        with plot:\n",
    "            plot.clear_output(wait=True)\n",
    "            display(fig)\n",
    "\n",
    "    return update_plot"
   ],
   "id": "6d22e15544d20781",
   "outputs": [],
   "execution_count": 21
  },
  {
   "metadata": {
    "ExecuteTime": {
     "end_time": "2024-12-01T12:00:18.396545Z",
     "start_time": "2024-12-01T12:00:18.391790Z"
    }
   },
   "cell_type": "code",
   "source": [
    "def valid_loader_creator():\n",
    "    while True:\n",
    "        for data in test_loader:\n",
    "            yield data"
   ],
   "id": "cdeefe4217a0e1c9",
   "outputs": [],
   "execution_count": 22
  },
  {
   "metadata": {},
   "cell_type": "markdown",
   "source": "### Normal Vi-T",
   "id": "ca59696e6896b548"
  },
  {
   "metadata": {
    "ExecuteTime": {
     "end_time": "2024-12-01T11:40:48.481173Z",
     "start_time": "2024-12-01T11:40:48.467711Z"
    }
   },
   "cell_type": "code",
   "source": [
    "# Set Epoch Count & Learning Rate\n",
    "EPOCHS = 40\n",
    "LEARNING_RATE = 1e-3\n",
    "\n",
    "criterion = nn.CrossEntropyLoss()\n",
    "wandb.watch(model, criterion, log=\"all\", log_freq=10)\n",
    "optimizer = optim.Adam(model.parameters(), lr=LEARNING_RATE)\n",
    "scheduler = optim.lr_scheduler.OneCycleLR(optimizer, max_lr=LEARNING_RATE, steps_per_epoch=len(train_loader), epochs=EPOCHS)"
   ],
   "id": "bf9d64452aaf68fe",
   "outputs": [],
   "execution_count": 25
  },
  {
   "metadata": {},
   "cell_type": "code",
   "source": [
    "train_length, valid_length = len(train_loader), 10\n",
    "valid_loader = iter(valid_loader_creator())\n",
    "\n",
    "epochs = tqdm(range(EPOCHS), desc=\"Running Epochs\")\n",
    "with (tqdm(total=train_length, desc=\"Training\") as train_progress,\n",
    "        tqdm(total=valid_length, desc=\"Validation\") as valid_progress):  # Set up Progress Bars\n",
    "    update = create_plot()  # Create Loss Plot\n",
    "\n",
    "    for epoch in epochs:\n",
    "        train_progress.reset(total=train_length)\n",
    "        valid_progress.reset(total=valid_length)\n",
    "\n",
    "        train_acc, train_loss = 0, 0\n",
    "\n",
    "        # Training\n",
    "        model.train()\n",
    "        for i, (inputs, targets) in enumerate(train_loader):\n",
    "            optimizer.zero_grad()\n",
    "            \n",
    "            inputs, targets = inputs.to(device), targets.to(device)\n",
    "            outputs = model(inputs)\n",
    "\n",
    "            loss = criterion(outputs, targets)\n",
    "            loss.backward()\n",
    "            optimizer.step()\n",
    "            scheduler.step()\n",
    "\n",
    "            train_loss += loss.item() / train_length\n",
    "            corrects = (torch.max(outputs, 1)[1] == targets.data).sum()\n",
    "            train_acc += corrects / len(train_dataset)\n",
    "\n",
    "            update(loss)\n",
    "            train_progress.update(1)\n",
    "            if i != train_length-1: wandb.log({'Acc': corrects/len(inputs)*100, 'Loss': loss.item()})\n",
    "            print(f\"\\rEpoch [{epoch+1:2}/{EPOCHS}], Step [{i+1:2}/{train_length}], Acc: {corrects/len(inputs):.6%}, Loss: {loss.item():.6f}\", end=\"\")\n",
    "\n",
    "        print(f\"\\rEpoch [{epoch+1:2}/{EPOCHS}], Step [{train_length}/{train_length}], Acc: {train_acc:.6%}, Loss: {train_loss:.6f}\", end=\"\")\n",
    "        val_acc, val_loss = 0, 0\n",
    "\n",
    "        # Validation\n",
    "        model.eval()\n",
    "        with torch.no_grad():\n",
    "            for (inputs, targets), _ in zip(valid_loader, range(valid_length)):\n",
    "                inputs, targets = inputs.to(device), targets.to(device)\n",
    "                outputs = model(inputs)\n",
    "\n",
    "                val_loss += criterion(outputs, targets).item() / valid_length\n",
    "                val_acc += (torch.max(outputs, 1)[1] == targets.data).sum() / (len(inputs) * valid_length)\n",
    "                valid_progress.update(1)\n",
    "\n",
    "        wandb.log({'Train Acc': train_acc*100, 'Train Loss': train_loss, 'Val Acc': val_acc*100, 'Val Loss': val_loss})\n",
    "        print(f\"\\rEpoch [{epoch+1:2}/{EPOCHS}], Step [{train_length}/{train_length}], Acc: {train_acc:.6%}, Loss: {train_loss:.6f}, Valid Acc: {val_acc:.6%}, Valid Loss: {val_loss:.6f}\", end=\"\\n\" if (epoch+1) % 5 == 0 or (epoch+1) == EPOCHS else \"\")"
   ],
   "id": "581a23258c46931",
   "outputs": [],
   "execution_count": null
  },
  {
   "metadata": {},
   "cell_type": "markdown",
   "source": "### TTT Vi-T",
   "id": "3e3e79da650eb914"
  },
  {
   "metadata": {
    "ExecuteTime": {
     "end_time": "2024-12-01T12:00:19.791314Z",
     "start_time": "2024-12-01T12:00:19.779185Z"
    }
   },
   "cell_type": "code",
   "source": [
    "# Set Epoch Count & Learning Rate\n",
    "EPOCHS = 40\n",
    "LEARNING_RATE = 1e-3\n",
    "\n",
    "criterion = nn.CrossEntropyLoss()\n",
    "wandb.watch(model, criterion, log=\"all\", log_freq=10)\n",
    "optimizer = optim.Adam(model.parameters(), lr=LEARNING_RATE)\n",
    "scheduler = optim.lr_scheduler.OneCycleLR(optimizer, max_lr=LEARNING_RATE, steps_per_epoch=len(train_loader), epochs=EPOCHS)"
   ],
   "id": "42dd00e380308053",
   "outputs": [],
   "execution_count": 23
  },
  {
   "metadata": {
    "ExecuteTime": {
     "end_time": "2024-12-01T12:27:10.023374100Z",
     "start_time": "2024-12-01T12:00:20.322298Z"
    }
   },
   "cell_type": "code",
   "source": [
    "train_length, valid_length = len(train_loader), 10\n",
    "valid_loader = iter(valid_loader_creator())\n",
    "\n",
    "epochs = tqdm(range(EPOCHS), desc=\"Running Epochs\")\n",
    "with (tqdm(total=train_length, desc=\"Training\") as train_progress,\n",
    "      tqdm(total=valid_length, desc=\"Validation\") as valid_progress):  # Set up Progress Bars\n",
    "    update = create_plot()  # Create Loss Plot\n",
    "\n",
    "    for epoch in epochs:\n",
    "        train_progress.reset(total=train_length)\n",
    "        valid_progress.reset(total=valid_length)\n",
    "\n",
    "        train_acc, train_loss = 0, 0\n",
    "\n",
    "        # Training\n",
    "        model.train()\n",
    "        for i, (inputs, targets) in enumerate(train_loader):\n",
    "            optimizer.zero_grad()\n",
    "\n",
    "            inputs, targets = inputs.to(device), targets.to(device)\n",
    "            outputs, self_loss = model(inputs)\n",
    "\n",
    "            loss = criterion(outputs, targets)\n",
    "            if self_loss is not None:\n",
    "                (loss + self_loss).backward()\n",
    "            else:\n",
    "                loss.backward()\n",
    "            optimizer.step()\n",
    "            scheduler.step()\n",
    "\n",
    "            train_loss += loss.item() / train_length\n",
    "            corrects = (torch.max(outputs, 1)[1] == targets.data).sum()\n",
    "            train_acc += corrects / len(train_dataset)\n",
    "\n",
    "            update(loss)\n",
    "            train_progress.update(1)\n",
    "            if self_loss is not None:\n",
    "                if i != train_length-1: wandb.log({'Acc': corrects/len(inputs)*100, 'Loss': loss.item(), 'Self Loss': self_loss.item()})\n",
    "            else:\n",
    "                if i != train_length-1: wandb.log({'Acc': corrects/len(inputs)*100, 'Loss': loss.item()})\n",
    "            print(f\"\\rEpoch [{epoch+1:2}/{EPOCHS}], Step [{i+1:2}/{train_length}], Acc: {corrects/len(inputs):.6%}, Loss: {loss.item():.6f}\", end=\"\")\n",
    "\n",
    "        print(f\"\\rEpoch [{epoch+1:2}/{EPOCHS}], Step [{train_length}/{train_length}], Acc: {train_acc:.6%}, Loss: {train_loss:.6f}\", end=\"\")\n",
    "        val_acc, val_loss = 0, 0\n",
    "\n",
    "        # Validation\n",
    "        # model.eval()\n",
    "        # for (inputs, targets), _ in zip(valid_loader, range(valid_length)):\n",
    "        #     inputs, targets = inputs.to(device), targets.to(device)\n",
    "        #     outputs, _ = model(inputs)\n",
    "        #\n",
    "        #     val_loss += criterion(outputs, targets).item() / valid_length\n",
    "        #     val_acc += (torch.max(outputs, 1)[1] == targets.data).sum() / (len(inputs) * valid_length)\n",
    "        #     valid_progress.update(1)\n",
    "\n",
    "        wandb.log({'Train Acc': train_acc*100, 'Train Loss': train_loss, 'Val Acc': val_acc*100, 'Val Loss': val_loss})\n",
    "        print(f\"\\rEpoch [{epoch+1:2}/{EPOCHS}], Step [{train_length}/{train_length}], Acc: {train_acc:.6%}, Loss: {train_loss:.6f}, Valid Acc: {val_acc:.6%}, Valid Loss: {val_loss:.6f}\", end=\"\\n\" if (epoch+1) % 5 == 0 or (epoch+1) == EPOCHS else \"\")"
   ],
   "id": "9ba61d2b7d8023cb",
   "outputs": [
    {
     "data": {
      "text/plain": [
       "Running Epochs:   0%|          | 0/40 [00:00<?, ?it/s]"
      ],
      "application/vnd.jupyter.widget-view+json": {
       "version_major": 2,
       "version_minor": 0,
       "model_id": "2bc2574d825146b39f62ba90a676ec4d"
      }
     },
     "metadata": {},
     "output_type": "display_data"
    },
    {
     "data": {
      "text/plain": [
       "Training:   0%|          | 0/98 [00:00<?, ?it/s]"
      ],
      "application/vnd.jupyter.widget-view+json": {
       "version_major": 2,
       "version_minor": 0,
       "model_id": "00267f91fdb9413d82132a7e0da5921a"
      }
     },
     "metadata": {},
     "output_type": "display_data"
    },
    {
     "data": {
      "text/plain": [
       "Validation:   0%|          | 0/10 [00:00<?, ?it/s]"
      ],
      "application/vnd.jupyter.widget-view+json": {
       "version_major": 2,
       "version_minor": 0,
       "model_id": "89132376b5704875bb21024b662b36d8"
      }
     },
     "metadata": {},
     "output_type": "display_data"
    },
    {
     "data": {
      "text/plain": [
       "Output()"
      ],
      "application/vnd.jupyter.widget-view+json": {
       "version_major": 2,
       "version_minor": 0,
       "model_id": "83ce84aa53c84c7b828caa05bbdc9319"
      }
     },
     "metadata": {},
     "output_type": "display_data"
    },
    {
     "name": "stdout",
     "output_type": "stream",
     "text": [
      "Epoch [ 5/40], Step [98/98], Acc: 10.016000%, Loss: 2.320453, Valid Acc: 0.000000%, Valid Loss: 0.000000\n",
      "Epoch [10/40], Step [98/98], Acc: 10.147997%, Loss: 2.306361, Valid Acc: 0.000000%, Valid Loss: 0.000000\n",
      "Epoch [15/40], Step [98/98], Acc: 10.028001%, Loss: 2.303834, Valid Acc: 0.000000%, Valid Loss: 0.000000\n",
      "Epoch [19/40], Step [64/98], Acc: 8.398438%, Loss: 2.3026292 Valid Acc: 0.000000%, Valid Loss: 0.000000"
     ]
    }
   ],
   "execution_count": null
  },
  {
   "metadata": {},
   "cell_type": "code",
   "source": [
    "if not path.isdir(path.join(\".\", \"models\")):\n",
    "    import os\n",
    "    os.mkdir(path.join(\".\", \"models\"))\n",
    "\n",
    "# Model Save\n",
    "save_path = path.join(\".\", \"models\", f\"normal_vit_model.pt\")\n",
    "torch.save(model.state_dict(), save_path)\n",
    "print(f\"Model saved to {save_path}\")"
   ],
   "id": "8a33998508f5da6",
   "outputs": [],
   "execution_count": null
  },
  {
   "metadata": {},
   "cell_type": "markdown",
   "source": "# Model Evaluation",
   "id": "7762d126105c4809"
  },
  {
   "metadata": {},
   "cell_type": "code",
   "source": [
    "# Load Model\n",
    "model_id = \"normal_vit_model\"\n",
    "\n",
    "model.load_state_dict(torch.load(path.join(\".\", \"models\", f\"{model_id}.pt\")))\n",
    "model.to(device)"
   ],
   "id": "435a4c75ebeb969d",
   "outputs": [],
   "execution_count": null
  },
  {
   "metadata": {},
   "cell_type": "code",
   "source": [
    "corrects = 0\n",
    "test_length = len(test_dataset)\n",
    "\n",
    "model.eval()\n",
    "with torch.no_grad():\n",
    "    for inputs, targets in tqdm(test_loader):\n",
    "        inputs, targets = inputs.to(device), targets.to(device)\n",
    "        outputs = model(inputs)\n",
    "        _, preds = torch.max(outputs, 1)\n",
    "        corrects += (preds == targets.data).sum()\n",
    "        print(f\"Model Accuracy: {corrects/test_length:%}\", end=\"\\r\")"
   ],
   "id": "9faf5249a208f03a",
   "outputs": [],
   "execution_count": null
  },
  {
   "metadata": {},
   "cell_type": "code",
   "source": "",
   "id": "c05d535d69419f6a",
   "outputs": [],
   "execution_count": null
  }
 ],
 "metadata": {
  "kernelspec": {
   "display_name": "Python 3",
   "language": "python",
   "name": "python3"
  },
  "language_info": {
   "codemirror_mode": {
    "name": "ipython",
    "version": 2
   },
   "file_extension": ".py",
   "mimetype": "text/x-python",
   "name": "python",
   "nbconvert_exporter": "python",
   "pygments_lexer": "ipython2",
   "version": "2.7.6"
  }
 },
 "nbformat": 4,
 "nbformat_minor": 5
}
