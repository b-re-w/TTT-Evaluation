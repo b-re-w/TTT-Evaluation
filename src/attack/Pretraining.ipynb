{
 "cells": [
  {
   "metadata": {},
   "cell_type": "markdown",
   "source": "# Vi-T for CIFAR-10",
   "id": "df559d6ecf587ef4"
  },
  {
   "metadata": {},
   "cell_type": "markdown",
   "source": "## Import Libraries",
   "id": "e6487069a22b443e"
  },
  {
   "metadata": {},
   "cell_type": "code",
   "source": [
    "%pip install transformers wandb einops\n",
    "%pip install \"git+https://github.com/b-re-w/lattent.git#egg=lattent[pytorch]\""
   ],
   "id": "3fcc1179b76a7de8",
   "outputs": [],
   "execution_count": null
  },
  {
   "metadata": {
    "collapsed": true
   },
   "cell_type": "code",
   "source": [
    "from os import path, mkdir\n",
    "\n",
    "import torch\n",
    "from torch import nn, optim\n",
    "from torch.utils.data import DataLoader\n",
    "\n",
    "from tqdm.auto import tqdm\n",
    "import wandb"
   ],
   "id": "initial_id",
   "outputs": [],
   "execution_count": null
  },
  {
   "metadata": {},
   "cell_type": "markdown",
   "source": "### Huggingface login",
   "id": "aaebb5e60434fc75"
  },
  {
   "metadata": {},
   "cell_type": "code",
   "source": [
    "# Uncomment out the line below when you need to login to Huggingface\n",
    "#!huggingface-cli login"
   ],
   "id": "96406df8351e29f7",
   "outputs": [],
   "execution_count": null
  },
  {
   "metadata": {},
   "cell_type": "markdown",
   "source": "### Check GPU Availability",
   "id": "88444867b0b14178"
  },
  {
   "metadata": {},
   "cell_type": "code",
   "source": "!nvidia-smi",
   "id": "51e70cad906b1983",
   "outputs": [],
   "execution_count": null
  },
  {
   "metadata": {},
   "cell_type": "code",
   "source": [
    "# Set CUDA Device Number 0~7\n",
    "DEVICE_NUM = 7\n",
    "ADDITIONAL_GPU = 0\n",
    "\n",
    "if torch.cuda.is_available():\n",
    "    if ADDITIONAL_GPU:\n",
    "        torch.cuda.set_device(DEVICE_NUM)\n",
    "        device = torch.device(\"cuda\")\n",
    "    else:\n",
    "        device = torch.device(f\"cuda:{DEVICE_NUM}\")\n",
    "else:\n",
    "    device = torch.device(\"cpu\")\n",
    "    DEVICE_NUM = -1\n",
    "\n",
    "print(f\"INFO: Using device - {device}\" + (f\":{DEVICE_NUM}\" if ADDITIONAL_GPU else \"\"))"
   ],
   "id": "4ae5ca44145e20a0",
   "outputs": [],
   "execution_count": null
  },
  {
   "metadata": {},
   "cell_type": "markdown",
   "source": "## Load DataSets",
   "id": "43f33be18440cabc"
  },
  {
   "metadata": {},
   "cell_type": "code",
   "source": [
    "from pretraining.datasets import (\n",
    "    ImageNet1K, CIFAR100, CIFAR10, DatasetHolder,\n",
    "    IMAGENET1KConfig, CIFAR100Config, CIFAR10Config\n",
    ")"
   ],
   "id": "7b41127ff906823e",
   "outputs": [],
   "execution_count": null
  },
  {
   "metadata": {},
   "cell_type": "code",
   "source": [
    "DATA_ROOT = path.join(\".\", \"data\")\n",
    "\n",
    "IMAGENETs = DatasetHolder(\n",
    "    config=IMAGENET1KConfig,\n",
    "    train=ImageNet1K(\n",
    "        root=DATA_ROOT, force_download=False, train=True, transform=IMAGENET1KConfig.augmentation\n",
    "    ),\n",
    "    valid=ImageNet1K(\n",
    "        root=DATA_ROOT, force_download=False, valid=True, transform=IMAGENET1KConfig.resizer\n",
    "    ),\n",
    "    test=ImageNet1K(\n",
    "        root=DATA_ROOT, force_download=False, train=False, transform=IMAGENET1KConfig.resizer\n",
    "    )\n",
    ")\n",
    "IMAGENETs.split_train_attack()\n",
    "print(f\"INFO: Dataset loaded successfully - {IMAGENETs}\")\n",
    "\n",
    "CIFAR100s = DatasetHolder(\n",
    "    config=CIFAR100Config,\n",
    "    train=CIFAR100(\n",
    "        root=DATA_ROOT, download=True, train=True, transform=CIFAR100Config.augmentation\n",
    "    ),\n",
    "    test=CIFAR100(\n",
    "        root=DATA_ROOT, download=True, train=False, transform=CIFAR100Config.resizer\n",
    "    )\n",
    ")\n",
    "CIFAR100s.split_train_valid()\n",
    "CIFAR100s.split_train_attack()\n",
    "print(f\"INFO: Dataset loaded successfully - {CIFAR100s}\")\n",
    "\n",
    "CIFAR10s = DatasetHolder(\n",
    "    config=CIFAR10Config,\n",
    "    train=CIFAR10(\n",
    "        root=DATA_ROOT, download=True, train=True, transform=CIFAR10Config.augmentation\n",
    "    ),\n",
    "    test=CIFAR10(\n",
    "        root=DATA_ROOT, download=True, train=False, transform=CIFAR10Config.resizer\n",
    "    )\n",
    ")\n",
    "CIFAR10s.split_train_valid()\n",
    "CIFAR10s.split_train_attack()\n",
    "print(f\"INFO: Dataset loaded successfully - {CIFAR10s}\")"
   ],
   "id": "327d472ec0525e33",
   "outputs": [],
   "execution_count": null
  },
  {
   "metadata": {},
   "cell_type": "code",
   "source": [
    "CHOSEN_DATASET = IMAGENETs\n",
    "\n",
    "train_dataset = CHOSEN_DATASET.train\n",
    "valid_dataset = CHOSEN_DATASET.valid\n",
    "test_dataset = CHOSEN_DATASET.test\n",
    "\n",
    "print(f\"INFO: Dataset Size - {CHOSEN_DATASET}\")"
   ],
   "id": "6dfaaf862a9a0c10",
   "outputs": [],
   "execution_count": null
  },
  {
   "metadata": {},
   "cell_type": "markdown",
   "source": "## DataLoader",
   "id": "b50f6925761e5e63"
  },
  {
   "metadata": {},
   "cell_type": "code",
   "source": [
    "# Set Batch Size\n",
    "BATCH_SIZE = 512, 512, 512"
   ],
   "id": "4dd53b09a07e7b04",
   "outputs": [],
   "execution_count": null
  },
  {
   "metadata": {},
   "cell_type": "code",
   "source": [
    "MULTI_PROCESSING = True  # Set False if DataLoader is causing issues\n",
    "\n",
    "from platform import system\n",
    "if MULTI_PROCESSING and system() != \"Windows\":  # Multiprocess data loading is not supported on Windows\n",
    "    import multiprocessing\n",
    "    cpu_cores = multiprocessing.cpu_count()\n",
    "    print(f\"INFO: Number of CPU cores - {cpu_cores}\")\n",
    "else:\n",
    "    cpu_cores = 0\n",
    "    print(\"INFO: Using DataLoader without multi-processing.\")\n",
    "\n",
    "train_loader = DataLoader(train_dataset, batch_size=BATCH_SIZE[0], shuffle=True, num_workers=cpu_cores)\n",
    "valid_loader = DataLoader(valid_dataset, batch_size=BATCH_SIZE[1], shuffle=False, num_workers=cpu_cores)\n",
    "test_loader = DataLoader(test_dataset, batch_size=BATCH_SIZE[2], shuffle=False, num_workers=cpu_cores)"
   ],
   "id": "c6a5748cf1442804",
   "outputs": [],
   "execution_count": null
  },
  {
   "metadata": {},
   "cell_type": "code",
   "source": "train_loader.show_sample_grid(**CHOSEN_DATASET.config.norm)",
   "id": "f178d4118a670b57",
   "outputs": [],
   "execution_count": null
  },
  {
   "metadata": {},
   "cell_type": "markdown",
   "source": "## Define Model",
   "id": "e8d5ea2a2af0c35d"
  },
  {
   "metadata": {},
   "cell_type": "code",
   "source": [
    "from pretraining.models.transformers import (\n",
    "    ViTBase, ViTLarge,\n",
    "    SwinTiny, SwinBase, SwinLarge,\n",
    "    FNetVisionBase, FNetVisionLarge,\n",
    "    LongformerVisionBase, LongformerVisionLarge,\n",
    "    TTTVisionTiny, TTTVisionSmall, TTTVisionBase, TTTVisionLarge\n",
    ")\n",
    "from pretraining.models.others import (\n",
    "    ResNet50, ResNet101, ResNet152,\n",
    "    MLPMixerBase, MLPMixerLarge\n",
    ")"
   ],
   "id": "5ddcb2d583a637f2",
   "outputs": [],
   "execution_count": null
  },
  {
   "metadata": {},
   "cell_type": "code",
   "source": [
    "TargetModel = ViTBase\n",
    "\n",
    "# WandB Initialization\n",
    "try:\n",
    "    wandb.finish()\n",
    "except:\n",
    "    pass\n",
    "project = wandb.init(project=\"Exp_\"+CHOSEN_DATASET.config.name.upper(), name=TargetModel.model_name)\n",
    "\n",
    "# Initialize Model\n",
    "TargetModel.dataset_name = CHOSEN_DATASET.config.name\n",
    "model = TargetModel(image_size=CHOSEN_DATASET.config.size, num_classes=CHOSEN_DATASET.num_classes)\n",
    "\n",
    "if ADDITIONAL_GPU:\n",
    "    model = nn.DataParallel(model, device_ids=list(range(DEVICE_NUM, DEVICE_NUM+ADDITIONAL_GPU+1)))\n",
    "model.to(device)"
   ],
   "id": "f3500011660e797",
   "outputs": [],
   "execution_count": null
  },
  {
   "metadata": {},
   "cell_type": "markdown",
   "source": "## Training Loop",
   "id": "2f914f6148a87ae7"
  },
  {
   "metadata": {},
   "cell_type": "code",
   "source": [
    "def avg(lst):\n",
    "    try:\n",
    "        return sum(lst) / len(lst)\n",
    "    except ZeroDivisionError:\n",
    "        return 0"
   ],
   "id": "967ecd5b0e916b90",
   "outputs": [],
   "execution_count": null
  },
  {
   "metadata": {},
   "cell_type": "code",
   "source": [
    "# Set Epoch Count & Learning Rate\n",
    "EPOCHS = CHOSEN_DATASET.epochs\n",
    "LEARNING_RATE = 1e-4, 1e-6\n",
    "WEIGHT_DECAY = 0.05\n",
    "\n",
    "criterion = nn.CrossEntropyLoss()\n",
    "wandb.watch(model, criterion, log=\"all\", log_freq=10)\n",
    "optimizer = optim.AdamW(model.parameters(), lr=LEARNING_RATE[0], weight_decay=WEIGHT_DECAY)\n",
    "scheduler = optim.lr_scheduler.CosineAnnealingLR(optimizer, T_max=EPOCHS, eta_min=LEARNING_RATE[1])"
   ],
   "id": "42dd00e380308053",
   "outputs": [],
   "execution_count": null
  },
  {
   "metadata": {},
   "cell_type": "code",
   "source": [
    "train_length, valid_length = map(len, (train_loader, valid_loader))\n",
    "\n",
    "epochs = tqdm(range(EPOCHS), desc=\"Running Epochs\")\n",
    "with (tqdm(total=train_length, desc=\"Training\") as train_progress,\n",
    "    tqdm(total=valid_length, desc=\"Validation\") as valid_progress):  # Set up Progress Bars\n",
    "\n",
    "    for epoch in epochs:\n",
    "        train_progress.reset(total=train_length)\n",
    "        valid_progress.reset(total=valid_length)\n",
    "\n",
    "        train_acc, train_loss, val_acc, val_loss = [], [], [], []\n",
    "\n",
    "        # Training\n",
    "        model.train()\n",
    "        for i, (inputs, targets) in enumerate(train_loader):\n",
    "            optimizer.zero_grad()\n",
    "            inputs, targets = inputs.to(device), targets.to(device)\n",
    "            outputs = model(inputs)\n",
    "\n",
    "            loss = criterion(outputs, targets)\n",
    "            loss.backward()\n",
    "            optimizer.step()\n",
    "            scheduler.step()\n",
    "\n",
    "            train_loss.append(loss.item())\n",
    "            train_acc.append((torch.max(outputs, 1)[1] == targets.data).sum().item() / len(inputs))\n",
    "\n",
    "            train_progress.update(1)\n",
    "            if i != train_length-1: wandb.log({'Acc': avg(train_acc)*100, 'Loss': avg(train_loss)})\n",
    "            print(f\"\\rEpoch [{epoch+1:4}/{EPOCHS:4}], Step [{i+1:4}/{train_length:4}], Acc: {avg(train_acc):.6%}, Loss: {avg(train_loss):.6f}\", end=\"\")\n",
    "\n",
    "        # Validation\n",
    "        model.eval()\n",
    "        with torch.no_grad():\n",
    "            for inputs, targets in valid_loader:\n",
    "                inputs, targets = inputs.to(device), targets.to(device)\n",
    "                outputs = model(inputs)  # but not use model loss\n",
    "\n",
    "                val_loss.append(criterion(outputs, targets).item())\n",
    "                val_acc.append((torch.max(outputs, 1)[1] == targets.data).sum().item() / len(inputs))\n",
    "                valid_progress.update(1)\n",
    "\n",
    "        wandb.log({'Train Acc': avg(train_acc)*100, 'Train Loss': avg(train_loss), 'Val Acc': avg(val_acc)*100, 'Val Loss': avg(val_loss)})\n",
    "        print(f\"\\rEpoch [{epoch+1:4}/{EPOCHS:4}], Step [{train_length:4}/{train_length:4}], Acc: {avg(train_acc):.6%}, Loss: {avg(train_loss):.6f}, Valid Acc: {avg(val_acc):.6%}, Valid Loss: {avg(val_loss):.6f}\", end=\"\\n\" if (epoch+1) % 5 == 0 or (epoch+1) == EPOCHS else \"\")"
   ],
   "id": "ce7fd351c87211b7",
   "outputs": [],
   "execution_count": null
  },
  {
   "metadata": {},
   "cell_type": "code",
   "source": [
    "# Model Save\n",
    "if ADDITIONAL_GPU:\n",
    "    model.model.save()\n",
    "else:\n",
    "    model.save()"
   ],
   "id": "8a33998508f5da6",
   "outputs": [],
   "execution_count": null
  },
  {
   "metadata": {},
   "cell_type": "markdown",
   "source": "# Model Evaluation",
   "id": "7762d126105c4809"
  },
  {
   "metadata": {},
   "cell_type": "code",
   "source": [
    "# Load Model\n",
    "model = TargetModel(image_size=CHOSEN_DATASET.config.size, num_classes=len(train_dataset.classes))\n",
    "model.from_pretrained(version=\"\")\n",
    "model.to(device)"
   ],
   "id": "435a4c75ebeb969d",
   "outputs": [],
   "execution_count": null
  },
  {
   "metadata": {},
   "cell_type": "code",
   "source": [
    "corrects = 0\n",
    "test_length = len(test_dataset)\n",
    "\n",
    "model.eval()\n",
    "with torch.no_grad():\n",
    "    for inputs, targets in tqdm(test_loader):\n",
    "        inputs, targets = inputs.to(device), targets.to(device)\n",
    "        outputs = model(inputs)\n",
    "        _, preds = torch.max(outputs, 1)\n",
    "        corrects += (preds == targets.data).sum()\n",
    "        print(f\"Model Accuracy: {corrects/test_length:%}\", end=\"\\r\")"
   ],
   "id": "9faf5249a208f03a",
   "outputs": [],
   "execution_count": null
  },
  {
   "metadata": {},
   "cell_type": "code",
   "source": "",
   "id": "9950465b4726834f",
   "outputs": [],
   "execution_count": null
  }
 ],
 "metadata": {
  "kernelspec": {
   "display_name": "Python 3",
   "language": "python",
   "name": "python3"
  },
  "language_info": {
   "codemirror_mode": {
    "name": "ipython",
    "version": 2
   },
   "file_extension": ".py",
   "mimetype": "text/x-python",
   "name": "python",
   "nbconvert_exporter": "python",
   "pygments_lexer": "ipython2",
   "version": "2.7.6"
  }
 },
 "nbformat": 4,
 "nbformat_minor": 5
}
