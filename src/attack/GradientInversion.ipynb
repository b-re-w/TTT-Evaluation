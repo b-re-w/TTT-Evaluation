{
 "cells": [
  {
   "metadata": {},
   "cell_type": "markdown",
   "source": [
    "# Gradient Inversion Attack Implementation\n",
    "\n",
    "This notebook implements a Gradient Inversion Attack to reconstruct training data from gradients. The attack tries to recover the original input data by optimizing dummy data to match the observed gradients."
   ],
   "id": "166b53749490be57"
  },
  {
   "metadata": {
    "jupyter": {
     "is_executing": true
    }
   },
   "cell_type": "code",
   "source": "!pip install torch torchvision numpy matplotlib",
   "id": "a8aadbcb7cf69964",
   "outputs": [],
   "execution_count": null
  },
  {
   "metadata": {},
   "cell_type": "code",
   "outputs": [],
   "execution_count": null,
   "source": [
    "import torch\n",
    "import torch.nn as nn\n",
    "import torch.optim as optim\n",
    "import torchvision\n",
    "import torchvision.transforms as transforms\n",
    "import numpy as np\n",
    "import matplotlib.pyplot as plt"
   ],
   "id": "a78055591ccdb95"
  },
  {
   "metadata": {},
   "cell_type": "code",
   "outputs": [],
   "execution_count": null,
   "source": [
    "# Simple CNN model\n",
    "class SimpleCNN(nn.Module):\n",
    "    def __init__(self):\n",
    "        super(SimpleCNN, self).__init__()\n",
    "        self.conv1 = nn.Conv2d(1, 16, 3, padding=1)\n",
    "        self.conv2 = nn.Conv2d(16, 32, 3, padding=1)\n",
    "        self.fc1 = nn.Linear(32 * 7 * 7, 10)\n",
    "\n",
    "    def forward(self, x):\n",
    "        x = torch.relu(self.conv1(x))\n",
    "        x = nn.MaxPool2d(2)(x)\n",
    "        x = torch.relu(self.conv2(x))\n",
    "        x = nn.MaxPool2d(2)(x)\n",
    "        x = x.view(-1, 32 * 7 * 7)\n",
    "        x = self.fc1(x)\n",
    "        return x"
   ],
   "id": "8f8abddfc643ce87"
  },
  {
   "metadata": {},
   "cell_type": "code",
   "outputs": [],
   "execution_count": null,
   "source": [
    "def get_gradients(model, inputs, labels):\n",
    "    \"\"\"Get gradients for given inputs and labels\"\"\"\n",
    "    model.zero_grad()\n",
    "    outputs = model(inputs)\n",
    "    loss = nn.CrossEntropyLoss()(outputs, labels)\n",
    "    loss.backward()\n",
    "\n",
    "    gradients = []\n",
    "    for param in model.parameters():\n",
    "        if param.requires_grad:\n",
    "            gradients.append(param.grad.clone())\n",
    "\n",
    "    return gradients\n",
    "\n",
    "\n",
    "def gradient_inversion_attack(target_gradients, model, num_iterations=1000, lr=0.1):\n",
    "    \"\"\"Perform gradient inversion attack to reconstruct input data\"\"\"\n",
    "    # Initialize random dummy data\n",
    "    dummy_data = torch.randn(1, 1, 28, 28, requires_grad=True)\n",
    "    dummy_label = torch.tensor([0])\n",
    "\n",
    "    optimizer = optim.Adam([dummy_data], lr=lr)\n",
    "\n",
    "    for i in range(num_iterations):\n",
    "        optimizer.zero_grad()\n",
    "\n",
    "        # Get gradients for dummy data\n",
    "        dummy_gradients = get_gradients(model, dummy_data, dummy_label)\n",
    "\n",
    "        # Calculate gradient difference\n",
    "        grad_diff = sum(torch.sum((dg - tg) ** 2)\n",
    "                        for dg, tg in zip(dummy_gradients, target_gradients))\n",
    "\n",
    "        # Update dummy data\n",
    "        grad_diff.backward()\n",
    "        optimizer.step()\n",
    "\n",
    "        if (i + 1) % 100 == 0:\n",
    "            print(f'Iteration {i + 1}, Gradient Difference: {grad_diff.item():.4f}')\n",
    "\n",
    "    return dummy_data.detach()"
   ],
   "id": "5daef0c93d836202"
  },
  {
   "metadata": {},
   "cell_type": "code",
   "outputs": [],
   "execution_count": null,
   "source": [
    "# Load MNIST dataset for demo\n",
    "transform = transforms.Compose([transforms.ToTensor()])\n",
    "mnist_train = torchvision.datasets.MNIST(root='./data', train=True,\n",
    "                                         download=True, transform=transform)\n",
    "\n",
    "# Get a single image and label\n",
    "real_image, real_label = mnist_train[0]\n",
    "real_image = real_image.unsqueeze(0)\n",
    "real_label = torch.tensor([real_label])\n",
    "\n",
    "# Initialize model\n",
    "model = SimpleCNN()\n",
    "\n",
    "# Get target gradients\n",
    "target_gradients = get_gradients(model, real_image, real_label)\n",
    "\n",
    "# Perform attack\n",
    "reconstructed_image = gradient_inversion_attack(target_gradients, model)"
   ],
   "id": "b59a5c03d7a07267"
  },
  {
   "metadata": {},
   "cell_type": "code",
   "outputs": [],
   "execution_count": null,
   "source": [
    "# Visualize results\n",
    "plt.figure(figsize=(10, 5))\n",
    "\n",
    "plt.subplot(1, 2, 1)\n",
    "plt.imshow(real_image[0, 0].numpy(), cmap='gray')\n",
    "plt.title('Original Image')\n",
    "plt.axis('off')\n",
    "\n",
    "plt.subplot(1, 2, 2)\n",
    "plt.imshow(reconstructed_image[0, 0].numpy(), cmap='gray')\n",
    "plt.title('Reconstructed Image')\n",
    "plt.axis('off')\n",
    "\n",
    "plt.tight_layout()\n",
    "plt.show()"
   ],
   "id": "c3703b073dce418c"
  },
  {
   "metadata": {},
   "cell_type": "markdown",
   "source": [
    "The code above implements a gradient inversion attack that:\n",
    "1. Creates a simple CNN model\n",
    "2. Gets gradients from a real image\n",
    "3. Tries to reconstruct the original image by optimizing dummy data to match the observed gradients\n",
    "4. Visualizes the original and reconstructed images side by side\n"
   ],
   "id": "c185bcba1abfb07b"
  }
 ],
 "metadata": {
  "kernelspec": {
   "display_name": "Python 3",
   "language": "python",
   "name": "python3"
  },
  "language_info": {
   "codemirror_mode": {
    "name": "ipython",
    "version": 2
   },
   "file_extension": ".py",
   "mimetype": "text/x-python",
   "name": "python",
   "nbconvert_exporter": "python",
   "pygments_lexer": "ipython2",
   "version": "2.7.6"
  }
 },
 "nbformat": 4,
 "nbformat_minor": 5
}
