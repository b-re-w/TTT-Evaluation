{
 "cells": [
  {
   "metadata": {},
   "cell_type": "markdown",
   "source": [
    "CUDA_VISIBLE_DEVICES=0 python main.py --shared layer2 --rotation_type expand \\\n",
    "--group_norm 8 \\\n",
    "             --nepoch 150 --milestone_1 75 --milestone_2 125 \\\n",
    "                                                         --outf results/cifar10_layer2_gn_expand"
   ],
   "id": "65b28eedc40dc0d5"
  },
  {
   "metadata": {
    "ExecuteTime": {
     "end_time": "2024-11-25T03:46:50.991541Z",
     "start_time": "2024-11-25T03:46:48.075279Z"
    }
   },
   "cell_type": "code",
   "source": [
    "from __future__ import print_function\n",
    "\n",
    "import os\n",
    "import sys\n",
    "import argparse\n",
    "\n",
    "import torch\n",
    "from torch import nn, optim\n",
    "\n",
    "from ttt.vision.utils.misc import *\n",
    "from ttt.vision.utils.test_helpers import *\n",
    "from ttt.vision.utils.prepare_dataset import *\n",
    "from ttt.vision.utils.rotation import rotate_batch\n",
    "\n",
    "from tqdm.notebook import tqdm"
   ],
   "id": "30bc538c709cddfd",
   "outputs": [],
   "execution_count": 1
  },
  {
   "metadata": {
    "ExecuteTime": {
     "end_time": "2024-11-25T03:46:51.538686Z",
     "start_time": "2024-11-25T03:46:51.010366Z"
    }
   },
   "cell_type": "code",
   "source": "!nvidia-smi",
   "id": "191801710d3078ab",
   "outputs": [
    {
     "name": "stdout",
     "output_type": "stream",
     "text": [
      "Mon Nov 25 03:46:51 2024       \r\n",
      "+-----------------------------------------------------------------------------+\r\n",
      "| NVIDIA-SMI 495.29.05    Driver Version: 495.29.05    CUDA Version: 11.5     |\r\n",
      "|-------------------------------+----------------------+----------------------+\r\n",
      "| GPU  Name        Persistence-M| Bus-Id        Disp.A | Volatile Uncorr. ECC |\r\n",
      "| Fan  Temp  Perf  Pwr:Usage/Cap|         Memory-Usage | GPU-Util  Compute M. |\r\n",
      "|                               |                      |               MIG M. |\r\n",
      "|===============================+======================+======================|\r\n",
      "|   0  Tesla P100-PCIE...  On   | 00000000:04:00.0 Off |                    0 |\r\n",
      "| N/A   38C    P0    34W / 250W |   6738MiB / 16280MiB |      0%      Default |\r\n",
      "|                               |                      |                  N/A |\r\n",
      "+-------------------------------+----------------------+----------------------+\r\n",
      "|   1  Tesla P100-PCIE...  On   | 00000000:06:00.0 Off |                    0 |\r\n",
      "| N/A   37C    P0    25W / 250W |      2MiB / 16280MiB |      0%      Default |\r\n",
      "|                               |                      |                  N/A |\r\n",
      "+-------------------------------+----------------------+----------------------+\r\n",
      "|   2  Tesla P100-PCIE...  On   | 00000000:07:00.0 Off |                    0 |\r\n",
      "| N/A   52C    P0    41W / 250W |      2MiB / 16280MiB |      0%      Default |\r\n",
      "|                               |                      |                  N/A |\r\n",
      "+-------------------------------+----------------------+----------------------+\r\n",
      "|   3  Tesla P100-PCIE...  On   | 00000000:08:00.0 Off |                    0 |\r\n",
      "| N/A   36C    P0    26W / 250W |      2MiB / 16280MiB |      0%      Default |\r\n",
      "|                               |                      |                  N/A |\r\n",
      "+-------------------------------+----------------------+----------------------+\r\n",
      "|   4  Tesla P100-PCIE...  On   | 00000000:0C:00.0 Off |                    0 |\r\n",
      "| N/A   38C    P0    26W / 250W |      2MiB / 16280MiB |      0%      Default |\r\n",
      "|                               |                      |                  N/A |\r\n",
      "+-------------------------------+----------------------+----------------------+\r\n",
      "|   5  Tesla P100-PCIE...  On   | 00000000:0D:00.0 Off |                    0 |\r\n",
      "| N/A   40C    P0    27W / 250W |      2MiB / 16280MiB |      0%      Default |\r\n",
      "|                               |                      |                  N/A |\r\n",
      "+-------------------------------+----------------------+----------------------+\r\n",
      "|   6  Tesla P100-PCIE...  On   | 00000000:0E:00.0 Off |                    0 |\r\n",
      "| N/A   37C    P0    26W / 250W |      2MiB / 16280MiB |      0%      Default |\r\n",
      "|                               |                      |                  N/A |\r\n",
      "+-------------------------------+----------------------+----------------------+\r\n",
      "|   7  Tesla P100-PCIE...  On   | 00000000:0F:00.0 Off |                    0 |\r\n",
      "| N/A   38C    P0    31W / 250W |  15095MiB / 16280MiB |      0%      Default |\r\n",
      "|                               |                      |                  N/A |\r\n",
      "+-------------------------------+----------------------+----------------------+\r\n",
      "                                                                               \r\n",
      "+-----------------------------------------------------------------------------+\r\n",
      "| Processes:                                                                  |\r\n",
      "|  GPU   GI   CI        PID   Type   Process name                  GPU Memory |\r\n",
      "|        ID   ID                                                   Usage      |\r\n",
      "|=============================================================================|\r\n",
      "|    0   N/A  N/A     18694      C   ...da/envs/AISW_k/bin/python     6059MiB |\r\n",
      "|    7   N/A  N/A     39076      C   ...5122/anaconda3/bin/python    15093MiB |\r\n",
      "+-----------------------------------------------------------------------------+\r\n"
     ]
    }
   ],
   "execution_count": 2
  },
  {
   "metadata": {
    "ExecuteTime": {
     "end_time": "2024-11-25T03:46:51.628298Z",
     "start_time": "2024-11-25T03:46:51.624645Z"
    }
   },
   "cell_type": "code",
   "source": "os.environ['CUDA_VISIBLE_DEVICES'] = '2'",
   "id": "81d64d875a97bf70",
   "outputs": [],
   "execution_count": 3
  },
  {
   "metadata": {
    "ExecuteTime": {
     "end_time": "2024-11-25T03:47:03.391328Z",
     "start_time": "2024-11-25T03:47:03.386383Z"
    }
   },
   "cell_type": "code",
   "source": [
    "sys.argv = [\n",
    "    \"python\",\n",
    "    \"--shared\", \"layer2\", \"--rotation_type\", \"expand\",\n",
    "    \"--group_norm\", \"8\", \"--nepoch\", \"150\",\n",
    "    \"--milestone_1\", \"75\", \"--milestone_2\", \"125\",\n",
    "    \"--outf\", \"./results/cifar10_layer2_gn_expand\"\n",
    "]"
   ],
   "id": "d94d7879d597485d",
   "outputs": [],
   "execution_count": 6
  },
  {
   "metadata": {
    "ExecuteTime": {
     "end_time": "2024-11-25T06:24:10.372228Z",
     "start_time": "2024-11-25T06:24:10.359948Z"
    }
   },
   "cell_type": "code",
   "source": [
    "parser = argparse.ArgumentParser()\n",
    "parser.add_argument('--dataset', default='cifar10')\n",
    "parser.add_argument('--dataroot', default='./datasets/')\n",
    "parser.add_argument('--shared', default=None)\n",
    "########################################################################\n",
    "parser.add_argument('--depth', default=26, type=int)\n",
    "parser.add_argument('--width', default=1, type=int)\n",
    "parser.add_argument('--batch_size', default=128, type=int)\n",
    "parser.add_argument('--group_norm', default=0, type=int)\n",
    "########################################################################\n",
    "parser.add_argument('--lr', default=0.1, type=float)\n",
    "parser.add_argument('--nepoch', default=75, type=int)\n",
    "parser.add_argument('--milestone_1', default=50, type=int)\n",
    "parser.add_argument('--milestone_2', default=65, type=int)\n",
    "parser.add_argument('--rotation_type', default='rand')\n",
    "########################################################################\n",
    "parser.add_argument('--outf', default='.')\n",
    "\n",
    "args = parser.parse_args()"
   ],
   "id": "57ea09cd7fd3a16f",
   "outputs": [],
   "execution_count": 17
  },
  {
   "metadata": {
    "ExecuteTime": {
     "end_time": "2024-11-25T06:24:13.019558Z",
     "start_time": "2024-11-25T06:24:10.887327Z"
    }
   },
   "cell_type": "code",
   "source": [
    "my_makedir(args.outf)\n",
    "import torch.backends.cudnn as cudnn\n",
    "cudnn.benchmark = True\n",
    "net, ext, head, ssh = build_model(args)\n",
    "_, teloader = prepare_test_data(args)\n",
    "_, trloader = prepare_train_data(args)"
   ],
   "id": "6a34ab6cdcfa4420",
   "outputs": [
    {
     "name": "stdout",
     "output_type": "stream",
     "text": [
      "Building model...\n",
      "Test on the original test set\n",
      "Files already downloaded and verified\n",
      "Preparing data...\n",
      "Files already downloaded and verified\n"
     ]
    }
   ],
   "execution_count": 18
  },
  {
   "metadata": {
    "ExecuteTime": {
     "end_time": "2024-11-25T06:24:13.039454Z",
     "start_time": "2024-11-25T06:24:13.032433Z"
    }
   },
   "cell_type": "code",
   "source": [
    "parameters = list(net.parameters())+list(head.parameters())\n",
    "optimizer = optim.SGD(parameters, lr=args.lr, momentum=0.9, weight_decay=5e-4)\n",
    "scheduler = torch.optim.lr_scheduler.MultiStepLR(\n",
    "    optimizer, [args.milestone_1, args.milestone_2], gamma=0.1, last_epoch=-1)\n",
    "criterion = nn.CrossEntropyLoss().cuda()"
   ],
   "id": "600bdd9f4eface0b",
   "outputs": [],
   "execution_count": 19
  },
  {
   "metadata": {
    "ExecuteTime": {
     "end_time": "2024-11-25T08:32:24.930377Z",
     "start_time": "2024-11-25T06:24:13.193458Z"
    }
   },
   "cell_type": "code",
   "source": [
    "all_err_cls = []\n",
    "all_err_ssh = []\n",
    "print('Running...')\n",
    "print('Error (%)\\t\\ttest\\t\\tself-supervised')\n",
    "for epoch in tqdm(range(1, args.nepoch+1)):\n",
    "    net.train()\n",
    "    ssh.train()\n",
    "\n",
    "    for batch_idx, (inputs, labels) in enumerate(trloader):\n",
    "        optimizer.zero_grad()\n",
    "        inputs_cls, labels_cls = inputs.cuda(), labels.cuda()\n",
    "        outputs_cls = net(inputs_cls)\n",
    "        loss = criterion(outputs_cls, labels_cls)\n",
    "\n",
    "        if args.shared is not None:\n",
    "            inputs_ssh, labels_ssh = rotate_batch(inputs, args.rotation_type)\n",
    "            inputs_ssh, labels_ssh = inputs_ssh.cuda(), labels_ssh.cuda()\n",
    "            outputs_ssh = ssh(inputs_ssh)\n",
    "            loss_ssh = criterion(outputs_ssh, labels_ssh)\n",
    "            loss += loss_ssh\n",
    "\n",
    "        loss.backward()\n",
    "        optimizer.step()\n",
    "\n",
    "    err_cls = test(teloader, net)[0]\n",
    "    err_ssh = 0 if args.shared is None else test(teloader, ssh, sslabel='expand')[0]\n",
    "    all_err_cls.append(err_cls)\n",
    "    all_err_ssh.append(err_ssh)\n",
    "    scheduler.step()\n",
    "\n",
    "    print(('Epoch %d/%d:' %(epoch, args.nepoch)).ljust(24) +\n",
    "          '%.2f\\t\\t%.2f' %(err_cls*100, err_ssh*100))\n",
    "    torch.save((all_err_cls, all_err_ssh), args.outf + '/loss.pth')\n",
    "    plot_epochs(all_err_cls, all_err_ssh, args.outf + '/loss.pdf')"
   ],
   "id": "217cf6cd327278f4",
   "outputs": [
    {
     "name": "stdout",
     "output_type": "stream",
     "text": [
      "Running...\n",
      "Error (%)\t\ttest\t\tself-supervised\n"
     ]
    },
    {
     "data": {
      "text/plain": [
       "  0%|          | 0/150 [00:00<?, ?it/s]"
      ],
      "application/vnd.jupyter.widget-view+json": {
       "version_major": 2,
       "version_minor": 0,
       "model_id": "76d38a7bfb1f4ba59e19678aa77282f0"
      }
     },
     "metadata": {},
     "output_type": "display_data"
    },
    {
     "name": "stdout",
     "output_type": "stream",
     "text": [
      "Epoch 1/150:            62.54\t\t44.49\n",
      "Epoch 2/150:            50.58\t\t39.46\n",
      "Epoch 3/150:            44.09\t\t35.37\n",
      "Epoch 4/150:            41.66\t\t32.16\n",
      "Epoch 5/150:            35.78\t\t28.65\n",
      "Epoch 6/150:            30.77\t\t27.26\n",
      "Epoch 7/150:            34.10\t\t27.78\n",
      "Epoch 8/150:            27.67\t\t22.95\n",
      "Epoch 9/150:            29.02\t\t23.79\n",
      "Epoch 10/150:           23.32\t\t22.51\n",
      "Epoch 11/150:           28.98\t\t23.18\n",
      "Epoch 12/150:           22.84\t\t21.48\n",
      "Epoch 13/150:           23.17\t\t22.50\n",
      "Epoch 14/150:           22.77\t\t20.42\n",
      "Epoch 15/150:           21.33\t\t20.08\n",
      "Epoch 16/150:           20.76\t\t19.46\n",
      "Epoch 17/150:           26.97\t\t19.26\n",
      "Epoch 18/150:           20.84\t\t18.67\n",
      "Epoch 19/150:           19.76\t\t18.33\n",
      "Epoch 20/150:           23.22\t\t20.71\n",
      "Epoch 21/150:           21.30\t\t18.99\n",
      "Epoch 22/150:           21.40\t\t17.89\n",
      "Epoch 23/150:           19.48\t\t18.81\n",
      "Epoch 24/150:           18.92\t\t18.89\n",
      "Epoch 25/150:           21.46\t\t19.36\n",
      "Epoch 26/150:           20.41\t\t18.89\n",
      "Epoch 27/150:           19.70\t\t19.74\n",
      "Epoch 28/150:           19.75\t\t18.16\n",
      "Epoch 29/150:           18.53\t\t17.77\n",
      "Epoch 30/150:           18.76\t\t19.07\n",
      "Epoch 31/150:           19.71\t\t16.97\n",
      "Epoch 32/150:           17.38\t\t18.14\n",
      "Epoch 33/150:           22.25\t\t19.45\n",
      "Epoch 34/150:           21.47\t\t19.93\n",
      "Epoch 35/150:           16.90\t\t19.30\n",
      "Epoch 36/150:           19.58\t\t20.30\n",
      "Epoch 37/150:           19.88\t\t15.75\n",
      "Epoch 38/150:           18.55\t\t16.51\n",
      "Epoch 39/150:           17.78\t\t16.69\n",
      "Epoch 40/150:           20.97\t\t17.30\n",
      "Epoch 41/150:           20.09\t\t18.45\n",
      "Epoch 42/150:           17.45\t\t16.84\n",
      "Epoch 43/150:           18.06\t\t17.54\n",
      "Epoch 44/150:           19.95\t\t16.46\n",
      "Epoch 45/150:           20.45\t\t17.77\n",
      "Epoch 46/150:           16.78\t\t17.24\n",
      "Epoch 47/150:           25.53\t\t20.08\n",
      "Epoch 48/150:           19.26\t\t16.98\n",
      "Epoch 49/150:           18.02\t\t16.14\n",
      "Epoch 50/150:           21.66\t\t20.88\n",
      "Epoch 51/150:           18.96\t\t17.27\n",
      "Epoch 52/150:           18.90\t\t16.13\n",
      "Epoch 53/150:           16.97\t\t17.94\n",
      "Epoch 54/150:           18.80\t\t17.29\n",
      "Epoch 55/150:           20.23\t\t18.42\n",
      "Epoch 56/150:           16.80\t\t15.26\n",
      "Epoch 57/150:           20.58\t\t17.35\n",
      "Epoch 58/150:           17.61\t\t17.02\n",
      "Epoch 59/150:           16.50\t\t16.70\n",
      "Epoch 60/150:           17.55\t\t16.12\n",
      "Epoch 61/150:           17.75\t\t15.43\n",
      "Epoch 62/150:           18.97\t\t15.99\n",
      "Epoch 63/150:           20.92\t\t16.49\n",
      "Epoch 64/150:           17.66\t\t15.89\n",
      "Epoch 65/150:           18.63\t\t15.00\n",
      "Epoch 66/150:           18.61\t\t16.33\n",
      "Epoch 67/150:           18.24\t\t15.12\n",
      "Epoch 68/150:           18.77\t\t17.69\n",
      "Epoch 69/150:           16.97\t\t15.50\n",
      "Epoch 70/150:           20.12\t\t17.03\n",
      "Epoch 71/150:           17.65\t\t16.74\n",
      "Epoch 72/150:           18.03\t\t17.21\n",
      "Epoch 73/150:           17.43\t\t16.84\n",
      "Epoch 74/150:           16.12\t\t14.77\n",
      "Epoch 75/150:           18.19\t\t15.06\n",
      "Epoch 76/150:           10.72\t\t11.32\n",
      "Epoch 77/150:           10.40\t\t10.83\n",
      "Epoch 78/150:           10.68\t\t10.56\n",
      "Epoch 79/150:           10.40\t\t10.58\n",
      "Epoch 80/150:           9.62\t\t10.27\n",
      "Epoch 81/150:           10.06\t\t10.38\n",
      "Epoch 82/150:           10.29\t\t10.60\n",
      "Epoch 83/150:           10.47\t\t10.25\n",
      "Epoch 84/150:           10.35\t\t10.44\n",
      "Epoch 85/150:           10.55\t\t10.61\n",
      "Epoch 86/150:           9.72\t\t10.15\n",
      "Epoch 87/150:           9.94\t\t9.95\n",
      "Epoch 88/150:           9.91\t\t9.99\n",
      "Epoch 89/150:           9.92\t\t10.03\n",
      "Epoch 90/150:           10.18\t\t9.75\n",
      "Epoch 91/150:           10.63\t\t10.22\n",
      "Epoch 92/150:           10.05\t\t10.10\n",
      "Epoch 93/150:           9.74\t\t10.11\n",
      "Epoch 94/150:           9.81\t\t9.88\n",
      "Epoch 95/150:           10.19\t\t9.75\n",
      "Epoch 96/150:           10.95\t\t9.56\n",
      "Epoch 97/150:           10.48\t\t10.45\n",
      "Epoch 98/150:           11.15\t\t10.91\n",
      "Epoch 99/150:           10.28\t\t10.32\n",
      "Epoch 100/150:          10.30\t\t10.09\n",
      "Epoch 101/150:          11.44\t\t10.24\n",
      "Epoch 102/150:          10.04\t\t10.12\n",
      "Epoch 103/150:          10.62\t\t10.95\n",
      "Epoch 104/150:          11.30\t\t10.18\n",
      "Epoch 105/150:          10.52\t\t10.84\n",
      "Epoch 106/150:          10.04\t\t10.75\n",
      "Epoch 107/150:          10.17\t\t10.15\n",
      "Epoch 108/150:          10.39\t\t9.92\n",
      "Epoch 109/150:          9.98\t\t10.11\n",
      "Epoch 110/150:          10.37\t\t10.43\n",
      "Epoch 111/150:          10.76\t\t10.46\n",
      "Epoch 112/150:          10.84\t\t10.54\n",
      "Epoch 113/150:          10.81\t\t10.99\n",
      "Epoch 114/150:          11.10\t\t10.42\n",
      "Epoch 115/150:          10.48\t\t10.69\n",
      "Epoch 116/150:          10.30\t\t11.21\n",
      "Epoch 117/150:          11.05\t\t10.39\n",
      "Epoch 118/150:          11.61\t\t10.43\n",
      "Epoch 119/150:          10.22\t\t10.00\n",
      "Epoch 120/150:          9.79\t\t10.39\n",
      "Epoch 121/150:          11.67\t\t10.14\n",
      "Epoch 122/150:          12.09\t\t10.91\n",
      "Epoch 123/150:          11.80\t\t10.25\n",
      "Epoch 124/150:          10.67\t\t10.00\n",
      "Epoch 125/150:          10.40\t\t10.22\n",
      "Epoch 126/150:          8.29\t\t8.88\n",
      "Epoch 127/150:          8.13\t\t8.76\n",
      "Epoch 128/150:          8.17\t\t8.78\n",
      "Epoch 129/150:          8.30\t\t8.53\n",
      "Epoch 130/150:          8.28\t\t8.57\n",
      "Epoch 131/150:          8.31\t\t8.62\n",
      "Epoch 132/150:          8.29\t\t8.62\n",
      "Epoch 133/150:          8.19\t\t8.58\n",
      "Epoch 134/150:          8.10\t\t8.47\n",
      "Epoch 135/150:          7.93\t\t8.59\n",
      "Epoch 136/150:          8.04\t\t8.50\n",
      "Epoch 137/150:          8.05\t\t8.47\n",
      "Epoch 138/150:          8.09\t\t8.43\n",
      "Epoch 139/150:          8.07\t\t8.57\n",
      "Epoch 140/150:          8.17\t\t8.38\n",
      "Epoch 141/150:          8.32\t\t8.56\n",
      "Epoch 142/150:          8.08\t\t8.48\n",
      "Epoch 143/150:          8.08\t\t8.50\n",
      "Epoch 144/150:          8.25\t\t8.60\n",
      "Epoch 145/150:          8.23\t\t8.61\n",
      "Epoch 146/150:          8.13\t\t8.48\n",
      "Epoch 147/150:          8.22\t\t8.40\n",
      "Epoch 148/150:          8.20\t\t8.51\n",
      "Epoch 149/150:          8.15\t\t8.45\n",
      "Epoch 150/150:          8.35\t\t8.53\n"
     ]
    }
   ],
   "execution_count": 20
  },
  {
   "metadata": {
    "ExecuteTime": {
     "end_time": "2024-11-25T08:32:25.247751Z",
     "start_time": "2024-11-25T08:32:25.213893Z"
    }
   },
   "cell_type": "code",
   "source": [
    "state = {'err_cls': err_cls, 'err_ssh': err_ssh,\n",
    "         'net': net.state_dict(), 'head': head.state_dict(),\n",
    "         'optimizer': optimizer.state_dict()}\n",
    "torch.save(state, args.outf + '/ckpt.pth')"
   ],
   "id": "20067dc70a7fa7c4",
   "outputs": [],
   "execution_count": 21
  },
  {
   "metadata": {},
   "cell_type": "code",
   "outputs": [],
   "execution_count": null,
   "source": "",
   "id": "8b7be273c9da19cf"
  }
 ],
 "metadata": {
  "kernelspec": {
   "display_name": "Python 3",
   "language": "python",
   "name": "python3"
  },
  "language_info": {
   "codemirror_mode": {
    "name": "ipython",
    "version": 2
   },
   "file_extension": ".py",
   "mimetype": "text/x-python",
   "name": "python",
   "nbconvert_exporter": "python",
   "pygments_lexer": "ipython2",
   "version": "2.7.6"
  }
 },
 "nbformat": 4,
 "nbformat_minor": 5
}
